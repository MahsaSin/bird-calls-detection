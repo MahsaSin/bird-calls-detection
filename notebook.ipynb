{
 "cells": [
  {
   "cell_type": "code",
   "execution_count": 7,
   "id": "a20d26ac",
   "metadata": {},
   "outputs": [],
   "source": [
    "import pandas as pd\n",
    "\n",
    "a = pd.read_csv(\"train_labels-cal.csv\")\n",
    "b = pd.read_csv(\"train_labels.csv\")\n",
    "\n",
    "# Stack rows; keep same columns\n",
    "glued = pd.concat([a, b], ignore_index=True)\n",
    "glued.to_csv(\"glued.csv\", index=False)"
   ]
  },
  {
   "cell_type": "code",
   "execution_count": 8,
   "id": "4c0d5d70",
   "metadata": {},
   "outputs": [],
   "source": [
    "a = pd.read_csv(\"glued.csv\")\n",
    "b = pd.read_csv(\"final_features.csv\")\n",
    "a.rename(columns={\"fname\": \"file_name\"}, inplace=True)\n",
    "merged = pd.merge(b, a, on=\"file_name\", how=\"inner\")  # or \"left\"/\"right\"/\"outer\"\n",
    "merged.to_csv(\"final.csv\", index=False)"
   ]
  }
 ],
 "metadata": {
  "kernelspec": {
   "display_name": "bird-calls-detection",
   "language": "python",
   "name": "python3"
  },
  "language_info": {
   "codemirror_mode": {
    "name": "ipython",
    "version": 3
   },
   "file_extension": ".py",
   "mimetype": "text/x-python",
   "name": "python",
   "nbconvert_exporter": "python",
   "pygments_lexer": "ipython3",
   "version": "3.11.5"
  }
 },
 "nbformat": 4,
 "nbformat_minor": 5
}
